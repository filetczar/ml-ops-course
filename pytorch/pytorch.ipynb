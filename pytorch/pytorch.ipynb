{
 "metadata": {
  "language_info": {
   "codemirror_mode": {
    "name": "ipython",
    "version": 3
   },
   "file_extension": ".py",
   "mimetype": "text/x-python",
   "name": "python",
   "nbconvert_exporter": "python",
   "pygments_lexer": "ipython3",
   "version": "3.8.5"
  },
  "orig_nbformat": 2,
  "kernelspec": {
   "name": "python385jvsc74a57bd0e2875cea88ccda1abc495529b39daef8259c80b535f2fa7045192d954b19a3c5",
   "display_name": "Python 3.8.5 64-bit ('base': conda)"
  },
  "metadata": {
   "interpreter": {
    "hash": "7812ea015bdcee6f23a998adcdd2ef97c151c0c241b7b7070987d9313e41299d"
   }
  }
 },
 "nbformat": 4,
 "nbformat_minor": 2,
 "cells": [
  {
   "cell_type": "code",
   "execution_count": 1,
   "metadata": {},
   "outputs": [
    {
     "output_type": "stream",
     "name": "stdout",
     "text": [
      "Requirement already satisfied: torch in /Users/philazar/anaconda3/lib/python3.8/site-packages (1.8.1)\n",
      "Requirement already satisfied: typing-extensions in /Users/philazar/anaconda3/lib/python3.8/site-packages (from torch) (3.7.4.3)\n",
      "Requirement already satisfied: numpy in /Users/philazar/anaconda3/lib/python3.8/site-packages (from torch) (1.19.2)\n"
     ]
    }
   ],
   "source": [
    "!pip install torch\n",
    "import torch\n",
    "import torch.nn as nn\n",
    "from torch.nn import functional as F \n",
    "import pandas as pd \n",
    "import numpy as np "
   ]
  },
  {
   "cell_type": "code",
   "execution_count": 2,
   "metadata": {},
   "outputs": [],
   "source": [
    "dataset = pd.read_csv('https://raw.githubusercontent.com/futurexskill/ml-model-deployment/main/storepurchasedata_large.csv')\n"
   ]
  },
  {
   "cell_type": "code",
   "execution_count": 3,
   "metadata": {},
   "outputs": [
    {
     "output_type": "execute_result",
     "data": {
      "text/plain": [
       "               Age        Salary    Purchased\n",
       "count  1554.000000   1554.000000  1554.000000\n",
       "mean     44.296010  57042.471042     0.694981\n",
       "std      17.462458  21209.244800     0.460564\n",
       "min      18.000000  20000.000000     0.000000\n",
       "25%      27.000000  46000.000000     0.000000\n",
       "50%      43.000000  60000.000000     1.000000\n",
       "75%      62.000000  66000.000000     1.000000\n",
       "max      69.000000  96000.000000     1.000000"
      ],
      "text/html": "<div>\n<style scoped>\n    .dataframe tbody tr th:only-of-type {\n        vertical-align: middle;\n    }\n\n    .dataframe tbody tr th {\n        vertical-align: top;\n    }\n\n    .dataframe thead th {\n        text-align: right;\n    }\n</style>\n<table border=\"1\" class=\"dataframe\">\n  <thead>\n    <tr style=\"text-align: right;\">\n      <th></th>\n      <th>Age</th>\n      <th>Salary</th>\n      <th>Purchased</th>\n    </tr>\n  </thead>\n  <tbody>\n    <tr>\n      <th>count</th>\n      <td>1554.000000</td>\n      <td>1554.000000</td>\n      <td>1554.000000</td>\n    </tr>\n    <tr>\n      <th>mean</th>\n      <td>44.296010</td>\n      <td>57042.471042</td>\n      <td>0.694981</td>\n    </tr>\n    <tr>\n      <th>std</th>\n      <td>17.462458</td>\n      <td>21209.244800</td>\n      <td>0.460564</td>\n    </tr>\n    <tr>\n      <th>min</th>\n      <td>18.000000</td>\n      <td>20000.000000</td>\n      <td>0.000000</td>\n    </tr>\n    <tr>\n      <th>25%</th>\n      <td>27.000000</td>\n      <td>46000.000000</td>\n      <td>0.000000</td>\n    </tr>\n    <tr>\n      <th>50%</th>\n      <td>43.000000</td>\n      <td>60000.000000</td>\n      <td>1.000000</td>\n    </tr>\n    <tr>\n      <th>75%</th>\n      <td>62.000000</td>\n      <td>66000.000000</td>\n      <td>1.000000</td>\n    </tr>\n    <tr>\n      <th>max</th>\n      <td>69.000000</td>\n      <td>96000.000000</td>\n      <td>1.000000</td>\n    </tr>\n  </tbody>\n</table>\n</div>"
     },
     "metadata": {},
     "execution_count": 3
    }
   ],
   "source": [
    "dataset.describe()"
   ]
  },
  {
   "cell_type": "code",
   "execution_count": 4,
   "metadata": {},
   "outputs": [
    {
     "output_type": "execute_result",
     "data": {
      "text/plain": [
       "   Age  Salary  Purchased\n",
       "0   18   20000          0\n",
       "1   19   22000          0\n",
       "2   20   24000          0\n",
       "3   21   28000          0\n",
       "4   22   60000          1"
      ],
      "text/html": "<div>\n<style scoped>\n    .dataframe tbody tr th:only-of-type {\n        vertical-align: middle;\n    }\n\n    .dataframe tbody tr th {\n        vertical-align: top;\n    }\n\n    .dataframe thead th {\n        text-align: right;\n    }\n</style>\n<table border=\"1\" class=\"dataframe\">\n  <thead>\n    <tr style=\"text-align: right;\">\n      <th></th>\n      <th>Age</th>\n      <th>Salary</th>\n      <th>Purchased</th>\n    </tr>\n  </thead>\n  <tbody>\n    <tr>\n      <th>0</th>\n      <td>18</td>\n      <td>20000</td>\n      <td>0</td>\n    </tr>\n    <tr>\n      <th>1</th>\n      <td>19</td>\n      <td>22000</td>\n      <td>0</td>\n    </tr>\n    <tr>\n      <th>2</th>\n      <td>20</td>\n      <td>24000</td>\n      <td>0</td>\n    </tr>\n    <tr>\n      <th>3</th>\n      <td>21</td>\n      <td>28000</td>\n      <td>0</td>\n    </tr>\n    <tr>\n      <th>4</th>\n      <td>22</td>\n      <td>60000</td>\n      <td>1</td>\n    </tr>\n  </tbody>\n</table>\n</div>"
     },
     "metadata": {},
     "execution_count": 4
    }
   ],
   "source": [
    "dataset.head()"
   ]
  },
  {
   "cell_type": "code",
   "execution_count": 9,
   "metadata": {},
   "outputs": [],
   "source": [
    "from sklearn.model_selection import train_test_split\n",
    "X = dataset.iloc[:, :-1].values\n",
    "Y = dataset.iloc[:, -1].values\n",
    "X_train, X_test, Y_train, Y_test = train_test_split(X, Y, test_size = .2, random_state = 123)"
   ]
  },
  {
   "cell_type": "code",
   "execution_count": 10,
   "metadata": {},
   "outputs": [],
   "source": [
    "# scale and transform \n",
    "from sklearn.preprocessing import StandardScaler\n",
    "sc = StandardScaler()\n",
    "X_train = sc.fit_transform(X_train)\n",
    "X_test = sc.transform(X_test)\n",
    "X_train_ = torch.from_numpy(X_train).float()\n",
    "X_test_ = torch.from_numpy(X_test).float()"
   ]
  },
  {
   "cell_type": "code",
   "execution_count": 11,
   "metadata": {},
   "outputs": [],
   "source": [
    "y_train = torch.from_numpy(Y_train)\n",
    "y_test = torch.from_numpy(Y_test)"
   ]
  },
  {
   "cell_type": "code",
   "execution_count": 12,
   "metadata": {},
   "outputs": [
    {
     "output_type": "execute_result",
     "data": {
      "text/plain": [
       "tensor([1, 0, 1,  ..., 1, 1, 1])"
      ]
     },
     "metadata": {},
     "execution_count": 12
    }
   ],
   "source": [
    "y_train"
   ]
  },
  {
   "cell_type": "code",
   "execution_count": 15,
   "metadata": {},
   "outputs": [],
   "source": [
    "input_size =2\n",
    "output_size = 2\n",
    "hidden_size = 10"
   ]
  },
  {
   "cell_type": "code",
   "execution_count": 16,
   "metadata": {},
   "outputs": [],
   "source": [
    "class Net(nn.Module):\n",
    "    def __init__(self):\n",
    "        super(Net, self).__init__()\n",
    "        self.fc1 = torch.nn.Linear(input_size, hidden_size)\n",
    "        self.fc2 = torch.nn.Linear(hidden_size, hidden_size)\n",
    "        self.fc3 = torch.nn.Linear(hidden_size, output_size)\n",
    "\n",
    "\n",
    "    def forward(self, X):\n",
    "        X = torch.relu((self.fc1(X)))\n",
    "        X = torch.relu((self.fc2(X)))\n",
    "        X = self.fc3(X)\n",
    "\n",
    "        return F.log_softmax(X,dim=1)\n",
    "\n",
    "model = Net()"
   ]
  },
  {
   "cell_type": "code",
   "execution_count": 17,
   "metadata": {},
   "outputs": [],
   "source": [
    "import torch.optim as optim\n",
    "optimizer = torch.optim.Adam(model.parameters(), lr=0.01)\n",
    "loss_fn = nn.NLLLoss()\n",
    "\n",
    "epochs = 100"
   ]
  },
  {
   "cell_type": "code",
   "execution_count": 19,
   "metadata": {},
   "outputs": [
    {
     "output_type": "stream",
     "name": "stdout",
     "text": [
      "Epoch 0 loss 0.6584901809692383\nEpoch 1 loss 0.6353955864906311\nEpoch 2 loss 0.6140943765640259\nEpoch 3 loss 0.5936009883880615\nEpoch 4 loss 0.5735892057418823\nEpoch 5 loss 0.5541473627090454\nEpoch 6 loss 0.5350092053413391\nEpoch 7 loss 0.5158778429031372\nEpoch 8 loss 0.4962187707424164\nEpoch 9 loss 0.4757603406906128\nEpoch 10 loss 0.45457878708839417\nEpoch 11 loss 0.4328427314758301\nEpoch 12 loss 0.41081175208091736\nEpoch 13 loss 0.38915663957595825\nEpoch 14 loss 0.3681758940219879\nEpoch 15 loss 0.34760379791259766\nEpoch 16 loss 0.3275575041770935\nEpoch 17 loss 0.3082078993320465\nEpoch 18 loss 0.2896336317062378\nEpoch 19 loss 0.2719314694404602\nEpoch 20 loss 0.25525492429733276\nEpoch 21 loss 0.23967255651950836\nEpoch 22 loss 0.22522716224193573\nEpoch 23 loss 0.2119283229112625\nEpoch 24 loss 0.19966739416122437\nEpoch 25 loss 0.18855108320713043\nEpoch 26 loss 0.17868904769420624\nEpoch 27 loss 0.1698390394449234\nEpoch 28 loss 0.1619032621383667\nEpoch 29 loss 0.15495015680789948\nEpoch 30 loss 0.1488863080739975\nEpoch 31 loss 0.14364174008369446\nEpoch 32 loss 0.13907170295715332\nEpoch 33 loss 0.13511048257350922\nEpoch 34 loss 0.1317247897386551\nEpoch 35 loss 0.1288648396730423\nEpoch 36 loss 0.1264488697052002\nEpoch 37 loss 0.12446974962949753\nEpoch 38 loss 0.12283852696418762\nEpoch 39 loss 0.12157657742500305\nEpoch 40 loss 0.12062285095453262\nEpoch 41 loss 0.11980913579463959\nEpoch 42 loss 0.11908643692731857\nEpoch 43 loss 0.11839082092046738\nEpoch 44 loss 0.11770228296518326\nEpoch 45 loss 0.11698119342327118\nEpoch 46 loss 0.11653069406747818\nEpoch 47 loss 0.11617477238178253\nEpoch 48 loss 0.11590693891048431\nEpoch 49 loss 0.11572075635194778\nEpoch 50 loss 0.11555159091949463\nEpoch 51 loss 0.11538061499595642\nEpoch 52 loss 0.11519129574298859\nEpoch 53 loss 0.11500284075737\nEpoch 54 loss 0.1147838905453682\nEpoch 55 loss 0.11454719305038452\nEpoch 56 loss 0.11430112272500992\nEpoch 57 loss 0.11404051631689072\nEpoch 58 loss 0.11375557631254196\nEpoch 59 loss 0.11344984918832779\nEpoch 60 loss 0.11313144862651825\nEpoch 61 loss 0.1128031313419342\nEpoch 62 loss 0.11253997683525085\nEpoch 63 loss 0.11230052262544632\nEpoch 64 loss 0.11206591129302979\nEpoch 65 loss 0.11180274188518524\nEpoch 66 loss 0.11152980476617813\nEpoch 67 loss 0.11124002188444138\nEpoch 68 loss 0.11115201562643051\nEpoch 69 loss 0.11100281774997711\nEpoch 70 loss 0.11072609573602676\nEpoch 71 loss 0.11034803837537766\nEpoch 72 loss 0.1100580021739006\nEpoch 73 loss 0.10988476127386093\nEpoch 74 loss 0.10967530310153961\nEpoch 75 loss 0.10949088633060455\nEpoch 76 loss 0.10934561491012573\nEpoch 77 loss 0.10917332023382187\nEpoch 78 loss 0.10898246616125107\nEpoch 79 loss 0.10879804939031601\nEpoch 80 loss 0.10866757482290268\nEpoch 81 loss 0.10858362913131714\nEpoch 82 loss 0.10842274129390717\nEpoch 83 loss 0.10827737301588058\nEpoch 84 loss 0.10821864753961563\nEpoch 85 loss 0.10815121233463287\nEpoch 86 loss 0.10804750770330429\nEpoch 87 loss 0.10793644189834595\nEpoch 88 loss 0.10787349939346313\nEpoch 89 loss 0.10778719186782837\nEpoch 90 loss 0.10768134891986847\nEpoch 91 loss 0.10763169080018997\nEpoch 92 loss 0.1075499877333641\nEpoch 93 loss 0.10749012976884842\nEpoch 94 loss 0.10739543288946152\nEpoch 95 loss 0.10736091434955597\nEpoch 96 loss 0.10730746388435364\nEpoch 97 loss 0.10722450166940689\nEpoch 98 loss 0.1071120947599411\nEpoch 99 loss 0.10700757056474686\n"
     ]
    },
    {
     "output_type": "execute_result",
     "data": {
      "text/plain": [
       "[Parameter containing:\n",
       " tensor([[ 0.2675,  0.6899],\n",
       "         [-0.8905,  0.7650],\n",
       "         [ 0.9741, -0.7869],\n",
       "         [-0.8390, -0.9023],\n",
       "         [-0.8747, -0.9065],\n",
       "         [-0.6077, -0.8020],\n",
       "         [ 0.9068,  0.9137],\n",
       "         [-0.3334, -0.4592],\n",
       "         [ 0.6652,  0.5548],\n",
       "         [-0.6564, -0.0278]], requires_grad=True),\n",
       " Parameter containing:\n",
       " tensor([ 0.2960,  0.4198, -0.3629,  0.6986,  0.0825,  0.1627, -0.3019,  1.0874,\n",
       "          0.4572, -0.1215], requires_grad=True),\n",
       " Parameter containing:\n",
       " tensor([[ 3.5906e-01,  2.7795e-01,  5.2886e-01,  2.4881e-01, -5.3731e-01,\n",
       "          -6.8811e-01,  6.7005e-01,  2.1489e-01,  1.6044e-01,  5.7774e-03],\n",
       "         [ 2.2177e-01,  4.9093e-01,  8.0664e-01, -1.8004e-01, -5.2820e-01,\n",
       "          -3.9550e-01,  1.5304e-01,  5.2354e-01,  4.7654e-01,  1.7096e-01],\n",
       "         [-2.4963e-01, -2.9390e-01,  7.2783e-04, -2.8266e-01, -9.4181e-03,\n",
       "          -8.0866e-02, -2.4126e-01, -5.0786e-02, -7.9373e-02,  2.4368e-01],\n",
       "         [-4.9182e-01, -1.0697e-01, -6.7751e-01,  3.2074e-01,  3.9055e-01,\n",
       "           3.2099e-01,  2.6173e-02,  1.6992e-01, -1.2570e-01, -2.9199e-01],\n",
       "         [ 1.5636e-01, -3.0116e-01,  5.3819e-01, -2.6016e-01, -3.1787e-01,\n",
       "          -3.2517e-01,  8.4763e-02, -3.7704e-01, -5.9978e-02, -4.1103e-01],\n",
       "         [ 6.3625e-01,  3.8406e-01,  4.6818e-01,  9.5484e-02, -1.9402e-01,\n",
       "          -5.2307e-01,  5.9507e-01, -6.9786e-03,  5.6608e-01,  3.1500e-01],\n",
       "         [-8.8981e-02, -3.7393e-02,  7.3197e-01, -3.7891e-01,  7.3557e-02,\n",
       "          -7.9369e-03, -1.9768e-01,  1.6217e-01,  2.5357e-01,  2.7705e-02],\n",
       "         [-6.1336e-01, -5.4580e-01, -6.9908e-01,  6.3470e-01,  5.3096e-01,\n",
       "           2.3212e-01, -2.2779e-01,  5.5414e-01, -1.0540e-01, -7.1266e-01],\n",
       "         [ 1.1442e-01, -2.2657e-01,  2.8470e-02,  2.4841e-01, -1.5250e-01,\n",
       "          -1.0952e-01, -1.5879e-01, -3.1118e-01, -2.7580e-02, -5.5006e-02],\n",
       "         [-1.8766e-01, -4.7768e-01, -3.3607e-01,  5.9060e-01,  5.1317e-01,\n",
       "           1.2285e-01, -1.1508e-01,  2.8303e-01, -1.6498e-01, -3.0426e-01]],\n",
       "        requires_grad=True),\n",
       " Parameter containing:\n",
       " tensor([ 0.6580,  0.3535,  0.0647, -0.0621,  0.0846,  0.5066,  0.0813, -0.4379,\n",
       "         -0.2489, -0.3655], requires_grad=True),\n",
       " Parameter containing:\n",
       " tensor([[-0.6102, -0.8046,  0.0191,  0.5757, -0.2182, -0.1779,  0.0160,  0.1574,\n",
       "           0.2946,  0.3249],\n",
       "         [ 0.5464,  0.3916, -0.2958, -0.4452, -0.0226,  0.7072,  0.2331, -0.6410,\n",
       "          -0.2166, -0.4194]], requires_grad=True),\n",
       " Parameter containing:\n",
       " tensor([-0.6397,  0.4193], requires_grad=True)]"
      ]
     },
     "metadata": {},
     "execution_count": 19
    }
   ],
   "source": [
    "for epoch in range(epochs):\n",
    "  optimizer.zero_grad()\n",
    "  Ypred = model(X_train_)\n",
    "  loss = loss_fn(Ypred,  y_train)\n",
    "  loss.backward()\n",
    "  optimizer.step()\n",
    "  print('Epoch',epoch, 'loss',loss.item())\n",
    "\n",
    "list(model.parameters())"
   ]
  },
  {
   "cell_type": "code",
   "execution_count": 20,
   "metadata": {},
   "outputs": [
    {
     "output_type": "execute_result",
     "data": {
      "text/plain": [
       "tensor([[-0.0056, -5.1939]], grad_fn=<LogSoftmaxBackward>)"
      ]
     },
     "metadata": {},
     "execution_count": 20
    }
   ],
   "source": [
    "torch.from_numpy(sc.transform(np.array([[40,20000]]))).float()\n",
    "\n",
    "y_cust_20_40000 = model(torch.from_numpy(sc.transform(np.array([[40,20000]]))).float())\n",
    "y_cust_20_40000"
   ]
  },
  {
   "cell_type": "code",
   "execution_count": 21,
   "metadata": {},
   "outputs": [],
   "source": [
    "_, predicted_20_40000 = torch.max(y_cust_20_40000.data,-1)\n",
    "predicted_20_40000\n",
    "\n",
    "y_cust_42_50000 = model(torch.from_numpy(sc.transform(np.array([[42,50000]]))).float())\n",
    "y_cust_42_50000\n",
    "\n",
    "_, predicted_42_50000 = torch.max(y_cust_42_50000.data,-1)\n",
    "predicted_42_50000\n",
    "\n",
    "torch.save(model,'customer_buy.pt')"
   ]
  },
  {
   "cell_type": "code",
   "execution_count": 22,
   "metadata": {},
   "outputs": [],
   "source": [
    "restored_model = torch.load('customer_buy.pt')\n"
   ]
  },
  {
   "cell_type": "code",
   "execution_count": null,
   "metadata": {},
   "outputs": [],
   "source": []
  }
 ]
}